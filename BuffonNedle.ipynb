{
  "nbformat": 4,
  "nbformat_minor": 0,
  "metadata": {
    "colab": {
      "name": "BuffonNedle.ipynb",
      "provenance": []
    },
    "kernelspec": {
      "name": "python3",
      "display_name": "Python 3"
    }
  },
  "cells": [
    {
      "cell_type": "code",
      "metadata": {
        "id": "MBfpqd7TZmE_",
        "colab_type": "code",
        "colab": {}
      },
      "source": [
        "import numpy as np\n",
        "import matplotlib.pyplot as plt\n",
        "%matplotlib inline"
      ],
      "execution_count": 0,
      "outputs": []
    },
    {
      "cell_type": "code",
      "metadata": {
        "id": "2yvtPH_hcDKP",
        "colab_type": "code",
        "colab": {}
      },
      "source": [
        "# 試行回数 N(1000000000 以上クラッシュ), 線と線の間隔 d, 棒の長さ l(l > d)\n",
        "N = 1000000000\n",
        "d = 0.2\n",
        "l = 0.1"
      ],
      "execution_count": 0,
      "outputs": []
    },
    {
      "cell_type": "code",
      "metadata": {
        "id": "XgX_-GnaZrpP",
        "colab_type": "code",
        "colab": {}
      },
      "source": [
        "# 線から針の中心までの距離 x(0 <= x <= d/2)\n",
        "x = np.random.rand(N) * d / 2"
      ],
      "execution_count": 0,
      "outputs": []
    },
    {
      "cell_type": "code",
      "metadata": {
        "id": "LhB1pLGKshEH",
        "colab_type": "code",
        "colab": {}
      },
      "source": [
        "# N個以上の単位円内にある点を作る\n",
        "while True:\n",
        "    # 単位円と長さ１の正方形の面積比より、出た単位円内にある期待値の1.3倍乱数を生成\n",
        "    # 単位円内にあった数がNより小さければ繰り返し\n",
        "    v = np.random.rand(int(N / (np.pi / 4) * 1.3), 2)\n",
        "    # plt.scatter(v[:N, 0], v[:N, 1], marker=',')\n",
        "    # 原点からの距離 radius\n",
        "    radius = np.sqrt(np.sum(v ** 2, axis=1))\n",
        "    # 単位円内かどうかのフラグ変数\n",
        "    flag = (radius <= 1) & (radius != 0)\n",
        "    v = v[flag, :]\n",
        "    radius = radius[flag]\n",
        "    if v.size >= N:\n",
        "        break\n",
        "v = v[:N, :]\n",
        "# plt.scatter(v[:, 0], v[:, 1], marker='.')\n",
        "radius = radius[:N]\n",
        "v.shape, radius.shape"
      ],
      "execution_count": 0,
      "outputs": []
    },
    {
      "cell_type": "code",
      "metadata": {
        "id": "LFkmeAvzlz3M",
        "colab_type": "code",
        "colab": {}
      },
      "source": [
        "# 交わっている本数\n",
        "# sin(theta) = v[1](y座標) / radius\n",
        "n = np.sum(x <= (l / 2) * (v[:, 1] / radius))"
      ],
      "execution_count": 0,
      "outputs": []
    },
    {
      "cell_type": "markdown",
      "metadata": {
        "id": "pqEO9z2aA_oC",
        "colab_type": "text"
      },
      "source": [
        "$$error = \\left|\\frac{pi-np.pi}{np.pi}\\right|$$"
      ]
    },
    {
      "cell_type": "code",
      "metadata": {
        "id": "xMcdbqzd1vrV",
        "colab_type": "code",
        "colab": {}
      },
      "source": [
        "pi = 2 * l * N / (d * n)\n",
        "print('n: {}\\nN: {}'.format(n, N))\n",
        "print('-' * 20)\n",
        "print('pi   :{:.16}'.format(pi))\n",
        "print('np.pi: {:.16}'.format(np.pi))\n",
        "# 相対誤差\n",
        "error = abs((pi - np.pi) / np.pi * 100)\n",
        "print('error = {:.16}%'.format(error))"
      ],
      "execution_count": 0,
      "outputs": []
    },
    {
      "cell_type": "code",
      "metadata": {
        "id": "6cUJrWZhhN7b",
        "colab_type": "code",
        "colab": {}
      },
      "source": [
        ""
      ],
      "execution_count": 0,
      "outputs": []
    }
  ]
}